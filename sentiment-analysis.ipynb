{
 "cells": [
  {
   "cell_type": "code",
   "execution_count": 1,
   "metadata": {
    "collapsed": true
   },
   "outputs": [],
   "source": [
    "text = \"I am happy today. I feel sad today.\""
   ]
  },
  {
   "cell_type": "code",
   "execution_count": 2,
   "metadata": {},
   "outputs": [
    {
     "data": {
      "text/plain": [
       "TextBlob(\"I am happy today. I feel sad today.\")"
      ]
     },
     "execution_count": 2,
     "metadata": {},
     "output_type": "execute_result"
    }
   ],
   "source": [
    "from textblob import TextBlob\n",
    "\n",
    "blob = TextBlob(text)\n",
    "\n",
    "blob"
   ]
  },
  {
   "cell_type": "code",
   "execution_count": 3,
   "metadata": {},
   "outputs": [
    {
     "data": {
      "text/plain": [
       "[Sentence(\"I am happy today.\"), Sentence(\"I feel sad today.\")]"
      ]
     },
     "execution_count": 3,
     "metadata": {},
     "output_type": "execute_result"
    }
   ],
   "source": [
    "blob.sentences"
   ]
  },
  {
   "cell_type": "code",
   "execution_count": 4,
   "metadata": {},
   "outputs": [
    {
     "data": {
      "text/plain": [
       "Sentiment(polarity=0.8, subjectivity=1.0)"
      ]
     },
     "execution_count": 4,
     "metadata": {},
     "output_type": "execute_result"
    }
   ],
   "source": [
    "blob.sentences[0].sentiment"
   ]
  },
  {
   "cell_type": "code",
   "execution_count": 5,
   "metadata": {},
   "outputs": [
    {
     "data": {
      "text/plain": [
       "Sentiment(polarity=-0.5, subjectivity=1.0)"
      ]
     },
     "execution_count": 5,
     "metadata": {},
     "output_type": "execute_result"
    }
   ],
   "source": [
    "blob.sentences[1].sentiment"
   ]
  },
  {
   "cell_type": "code",
   "execution_count": 6,
   "metadata": {},
   "outputs": [
    {
     "data": {
      "text/plain": [
       "Sentiment(polarity=0.15000000000000002, subjectivity=1.0)"
      ]
     },
     "execution_count": 6,
     "metadata": {},
     "output_type": "execute_result"
    }
   ],
   "source": [
    "blob.sentiment"
   ]
  },
  {
   "cell_type": "code",
   "execution_count": 7,
   "metadata": {},
   "outputs": [],
   "source": [
    "import pandas as pd\n",
    "\n",
    "df = pd.read_excel(\"review.xlsx\")"
   ]
  },
  {
   "cell_type": "code",
   "execution_count": 8,
   "metadata": {},
   "outputs": [
    {
     "data": {
      "text/html": [
       "<div>\n",
       "<style>\n",
       "    .dataframe thead tr:only-child th {\n",
       "        text-align: right;\n",
       "    }\n",
       "\n",
       "    .dataframe thead th {\n",
       "        text-align: left;\n",
       "    }\n",
       "\n",
       "    .dataframe tbody tr th {\n",
       "        vertical-align: top;\n",
       "    }\n",
       "</style>\n",
       "<table border=\"1\" class=\"dataframe\">\n",
       "  <thead>\n",
       "    <tr style=\"text-align: right;\">\n",
       "      <th></th>\n",
       "      <th>Date</th>\n",
       "      <th>Reviews</th>\n",
       "      <th>Eggs</th>\n",
       "    </tr>\n",
       "  </thead>\n",
       "  <tbody>\n",
       "    <tr>\n",
       "      <th>0</th>\n",
       "      <td>2017-06-20 13:40:42</td>\n",
       "      <td>Pros: Large for a mid tower, easy HDD installa...</td>\n",
       "      <td>5</td>\n",
       "    </tr>\n",
       "    <tr>\n",
       "      <th>1</th>\n",
       "      <td>2017-06-12 10:18:56</td>\n",
       "      <td>Pros: - I personally don't care what my case l...</td>\n",
       "      <td>5</td>\n",
       "    </tr>\n",
       "    <tr>\n",
       "      <th>2</th>\n",
       "      <td>2017-06-08 05:55:28</td>\n",
       "      <td>Pros: Very well built, great for beginners, lo...</td>\n",
       "      <td>5</td>\n",
       "    </tr>\n",
       "    <tr>\n",
       "      <th>3</th>\n",
       "      <td>2017-06-05 21:10:56</td>\n",
       "      <td>Pros: I had this box for like 4 or 5 years now...</td>\n",
       "      <td>5</td>\n",
       "    </tr>\n",
       "    <tr>\n",
       "      <th>4</th>\n",
       "      <td>2017-06-05 15:25:31</td>\n",
       "      <td>Pros: Cheap\\n\\nCons: Cable management should b...</td>\n",
       "      <td>4</td>\n",
       "    </tr>\n",
       "  </tbody>\n",
       "</table>\n",
       "</div>"
      ],
      "text/plain": [
       "                 Date                                            Reviews  Eggs\n",
       "0 2017-06-20 13:40:42  Pros: Large for a mid tower, easy HDD installa...     5\n",
       "1 2017-06-12 10:18:56  Pros: - I personally don't care what my case l...     5\n",
       "2 2017-06-08 05:55:28  Pros: Very well built, great for beginners, lo...     5\n",
       "3 2017-06-05 21:10:56  Pros: I had this box for like 4 or 5 years now...     5\n",
       "4 2017-06-05 15:25:31  Pros: Cheap\\n\\nCons: Cable management should b...     4"
      ]
     },
     "execution_count": 8,
     "metadata": {},
     "output_type": "execute_result"
    }
   ],
   "source": [
    "df.head()"
   ]
  },
  {
   "cell_type": "code",
   "execution_count": 9,
   "metadata": {
    "collapsed": true
   },
   "outputs": [],
   "source": [
    "text =df.Reviews.iloc[0]"
   ]
  },
  {
   "cell_type": "code",
   "execution_count": 10,
   "metadata": {
    "collapsed": true
   },
   "outputs": [],
   "source": [
    "blob = TextBlob(text)"
   ]
  },
  {
   "cell_type": "code",
   "execution_count": 11,
   "metadata": {},
   "outputs": [
    {
     "data": {
      "text/plain": [
       "Sentiment(polarity=0.21199633699633702, subjectivity=0.4566849816849817)"
      ]
     },
     "execution_count": 11,
     "metadata": {},
     "output_type": "execute_result"
    }
   ],
   "source": [
    "blob.sentiment"
   ]
  },
  {
   "cell_type": "code",
   "execution_count": 12,
   "metadata": {
    "collapsed": true
   },
   "outputs": [],
   "source": [
    "def get_sentiment_polarity(text):\n",
    "    s = TextBlob(text)\n",
    "    return s.sentiment.polarity\n",
    "\n",
    "def get_sentiment_subjectivity(text):\n",
    "    s = TextBlob(text)\n",
    "    return s.sentiment.subjectivity"
   ]
  },
  {
   "cell_type": "code",
   "execution_count": 13,
   "metadata": {},
   "outputs": [],
   "source": [
    "df[\"polarity\"] = df.Reviews.apply(get_sentiment_polarity)\n",
    "df[\"subjectivity\"] = df.Reviews.apply(get_sentiment_subjectivity)"
   ]
  },
  {
   "cell_type": "code",
   "execution_count": 14,
   "metadata": {},
   "outputs": [
    {
     "data": {
      "text/html": [
       "<div>\n",
       "<style>\n",
       "    .dataframe thead tr:only-child th {\n",
       "        text-align: right;\n",
       "    }\n",
       "\n",
       "    .dataframe thead th {\n",
       "        text-align: left;\n",
       "    }\n",
       "\n",
       "    .dataframe tbody tr th {\n",
       "        vertical-align: top;\n",
       "    }\n",
       "</style>\n",
       "<table border=\"1\" class=\"dataframe\">\n",
       "  <thead>\n",
       "    <tr style=\"text-align: right;\">\n",
       "      <th></th>\n",
       "      <th>Date</th>\n",
       "      <th>Reviews</th>\n",
       "      <th>Eggs</th>\n",
       "      <th>polarity</th>\n",
       "      <th>subjectivity</th>\n",
       "    </tr>\n",
       "  </thead>\n",
       "  <tbody>\n",
       "    <tr>\n",
       "      <th>0</th>\n",
       "      <td>2017-06-20 13:40:42</td>\n",
       "      <td>Pros: Large for a mid tower, easy HDD installa...</td>\n",
       "      <td>5</td>\n",
       "      <td>0.211996</td>\n",
       "      <td>0.456685</td>\n",
       "    </tr>\n",
       "    <tr>\n",
       "      <th>1</th>\n",
       "      <td>2017-06-12 10:18:56</td>\n",
       "      <td>Pros: - I personally don't care what my case l...</td>\n",
       "      <td>5</td>\n",
       "      <td>0.133931</td>\n",
       "      <td>0.350177</td>\n",
       "    </tr>\n",
       "    <tr>\n",
       "      <th>2</th>\n",
       "      <td>2017-06-08 05:55:28</td>\n",
       "      <td>Pros: Very well built, great for beginners, lo...</td>\n",
       "      <td>5</td>\n",
       "      <td>0.218333</td>\n",
       "      <td>0.501667</td>\n",
       "    </tr>\n",
       "    <tr>\n",
       "      <th>3</th>\n",
       "      <td>2017-06-05 21:10:56</td>\n",
       "      <td>Pros: I had this box for like 4 or 5 years now...</td>\n",
       "      <td>5</td>\n",
       "      <td>0.133333</td>\n",
       "      <td>0.663889</td>\n",
       "    </tr>\n",
       "    <tr>\n",
       "      <th>4</th>\n",
       "      <td>2017-06-05 15:25:31</td>\n",
       "      <td>Pros: Cheap\\n\\nCons: Cable management should b...</td>\n",
       "      <td>4</td>\n",
       "      <td>0.218561</td>\n",
       "      <td>0.471591</td>\n",
       "    </tr>\n",
       "  </tbody>\n",
       "</table>\n",
       "</div>"
      ],
      "text/plain": [
       "                 Date                                            Reviews  \\\n",
       "0 2017-06-20 13:40:42  Pros: Large for a mid tower, easy HDD installa...   \n",
       "1 2017-06-12 10:18:56  Pros: - I personally don't care what my case l...   \n",
       "2 2017-06-08 05:55:28  Pros: Very well built, great for beginners, lo...   \n",
       "3 2017-06-05 21:10:56  Pros: I had this box for like 4 or 5 years now...   \n",
       "4 2017-06-05 15:25:31  Pros: Cheap\\n\\nCons: Cable management should b...   \n",
       "\n",
       "   Eggs  polarity  subjectivity  \n",
       "0     5  0.211996      0.456685  \n",
       "1     5  0.133931      0.350177  \n",
       "2     5  0.218333      0.501667  \n",
       "3     5  0.133333      0.663889  \n",
       "4     4  0.218561      0.471591  "
      ]
     },
     "execution_count": 14,
     "metadata": {},
     "output_type": "execute_result"
    }
   ],
   "source": [
    "df.head()"
   ]
  },
  {
   "cell_type": "code",
   "execution_count": 15,
   "metadata": {},
   "outputs": [
    {
     "data": {
      "text/plain": [
       "0.1982988510477767"
      ]
     },
     "execution_count": 15,
     "metadata": {},
     "output_type": "execute_result"
    }
   ],
   "source": [
    "df.polarity.mean()"
   ]
  },
  {
   "cell_type": "code",
   "execution_count": 16,
   "metadata": {},
   "outputs": [
    {
     "data": {
      "text/plain": [
       "0.20833333333333334"
      ]
     },
     "execution_count": 16,
     "metadata": {},
     "output_type": "execute_result"
    }
   ],
   "source": [
    "df.polarity.median()"
   ]
  },
  {
   "cell_type": "code",
   "execution_count": 17,
   "metadata": {
    "scrolled": true
   },
   "outputs": [
    {
     "data": {
      "text/html": [
       "<div>\n",
       "<style>\n",
       "    .dataframe thead tr:only-child th {\n",
       "        text-align: right;\n",
       "    }\n",
       "\n",
       "    .dataframe thead th {\n",
       "        text-align: left;\n",
       "    }\n",
       "\n",
       "    .dataframe tbody tr th {\n",
       "        vertical-align: top;\n",
       "    }\n",
       "</style>\n",
       "<table border=\"1\" class=\"dataframe\">\n",
       "  <thead>\n",
       "    <tr style=\"text-align: right;\">\n",
       "      <th></th>\n",
       "      <th>Date</th>\n",
       "      <th>Reviews</th>\n",
       "      <th>Eggs</th>\n",
       "      <th>polarity</th>\n",
       "      <th>subjectivity</th>\n",
       "    </tr>\n",
       "  </thead>\n",
       "  <tbody>\n",
       "    <tr>\n",
       "      <th>20</th>\n",
       "      <td>2017-03-16 13:55:01</td>\n",
       "      <td>Pros: Nice looking case and good layout. Unfor...</td>\n",
       "      <td>1</td>\n",
       "      <td>-0.024342</td>\n",
       "      <td>0.621930</td>\n",
       "    </tr>\n",
       "    <tr>\n",
       "      <th>28</th>\n",
       "      <td>2017-02-01 04:08:18</td>\n",
       "      <td>Pros: Side panels are.. okay?\\n\\nCons: TOO EXP...</td>\n",
       "      <td>1</td>\n",
       "      <td>0.001087</td>\n",
       "      <td>0.594565</td>\n",
       "    </tr>\n",
       "    <tr>\n",
       "      <th>18</th>\n",
       "      <td>2017-03-24 21:19:39</td>\n",
       "      <td>Pros: Solid Build\\nPlenty of cooling fans\\nSpa...</td>\n",
       "      <td>5</td>\n",
       "      <td>0.033482</td>\n",
       "      <td>0.537500</td>\n",
       "    </tr>\n",
       "    <tr>\n",
       "      <th>9</th>\n",
       "      <td>2017-05-20 04:47:16</td>\n",
       "      <td>Pros: Solid case, never given me any troubles,...</td>\n",
       "      <td>4</td>\n",
       "      <td>0.090476</td>\n",
       "      <td>0.566667</td>\n",
       "    </tr>\n",
       "    <tr>\n",
       "      <th>14</th>\n",
       "      <td>2017-04-19 22:07:32</td>\n",
       "      <td>Pros: I built a budget computer for a buddy wi...</td>\n",
       "      <td>3</td>\n",
       "      <td>0.100000</td>\n",
       "      <td>0.733333</td>\n",
       "    </tr>\n",
       "    <tr>\n",
       "      <th>32</th>\n",
       "      <td>2016-12-08 03:28:10</td>\n",
       "      <td>Pros: decent build, looks good\\n\\nCons: This i...</td>\n",
       "      <td>1</td>\n",
       "      <td>0.126845</td>\n",
       "      <td>0.404524</td>\n",
       "    </tr>\n",
       "    <tr>\n",
       "      <th>3</th>\n",
       "      <td>2017-06-05 21:10:56</td>\n",
       "      <td>Pros: I had this box for like 4 or 5 years now...</td>\n",
       "      <td>5</td>\n",
       "      <td>0.133333</td>\n",
       "      <td>0.663889</td>\n",
       "    </tr>\n",
       "    <tr>\n",
       "      <th>1</th>\n",
       "      <td>2017-06-12 10:18:56</td>\n",
       "      <td>Pros: - I personally don't care what my case l...</td>\n",
       "      <td>5</td>\n",
       "      <td>0.133931</td>\n",
       "      <td>0.350177</td>\n",
       "    </tr>\n",
       "    <tr>\n",
       "      <th>23</th>\n",
       "      <td>2017-02-13 09:20:50</td>\n",
       "      <td>Pros: -Everything that's compatible with this ...</td>\n",
       "      <td>5</td>\n",
       "      <td>0.134048</td>\n",
       "      <td>0.421565</td>\n",
       "    </tr>\n",
       "    <tr>\n",
       "      <th>17</th>\n",
       "      <td>2017-03-27 10:42:14</td>\n",
       "      <td>Pros: - fan options\\n- blue led\\n- top and rea...</td>\n",
       "      <td>5</td>\n",
       "      <td>0.135714</td>\n",
       "      <td>0.316964</td>\n",
       "    </tr>\n",
       "    <tr>\n",
       "      <th>10</th>\n",
       "      <td>2017-05-15 16:22:44</td>\n",
       "      <td>Pros: + Cheap Price\\n+ Came with pre-installed...</td>\n",
       "      <td>4</td>\n",
       "      <td>0.148333</td>\n",
       "      <td>0.378333</td>\n",
       "    </tr>\n",
       "    <tr>\n",
       "      <th>24</th>\n",
       "      <td>2017-02-11 15:15:35</td>\n",
       "      <td>Pros: -Bought a Rosewill Challenger case rough...</td>\n",
       "      <td>5</td>\n",
       "      <td>0.154545</td>\n",
       "      <td>0.295360</td>\n",
       "    </tr>\n",
       "    <tr>\n",
       "      <th>29</th>\n",
       "      <td>2017-01-26 23:52:26</td>\n",
       "      <td>Pros: -All steel\\n-Thumb screws attach the sid...</td>\n",
       "      <td>5</td>\n",
       "      <td>0.179266</td>\n",
       "      <td>0.456680</td>\n",
       "    </tr>\n",
       "    <tr>\n",
       "      <th>11</th>\n",
       "      <td>2017-05-13 00:10:54</td>\n",
       "      <td>Pros: The fans are quiet and great.\\nLightweig...</td>\n",
       "      <td>5</td>\n",
       "      <td>0.181888</td>\n",
       "      <td>0.432823</td>\n",
       "    </tr>\n",
       "    <tr>\n",
       "      <th>12</th>\n",
       "      <td>2017-05-12 16:48:48</td>\n",
       "      <td>Pros: The fans are quiet and great.\\nLightweig...</td>\n",
       "      <td>4</td>\n",
       "      <td>0.181888</td>\n",
       "      <td>0.432823</td>\n",
       "    </tr>\n",
       "    <tr>\n",
       "      <th>21</th>\n",
       "      <td>2017-03-11 16:25:02</td>\n",
       "      <td>Pros: Surprisingly good quality case for the p...</td>\n",
       "      <td>5</td>\n",
       "      <td>0.184876</td>\n",
       "      <td>0.560049</td>\n",
       "    </tr>\n",
       "    <tr>\n",
       "      <th>31</th>\n",
       "      <td>2017-01-23 06:39:10</td>\n",
       "      <td>Pros: - Great and not too loud fans\\n- Big eno...</td>\n",
       "      <td>2</td>\n",
       "      <td>0.208333</td>\n",
       "      <td>0.691667</td>\n",
       "    </tr>\n",
       "    <tr>\n",
       "      <th>0</th>\n",
       "      <td>2017-06-20 13:40:42</td>\n",
       "      <td>Pros: Large for a mid tower, easy HDD installa...</td>\n",
       "      <td>5</td>\n",
       "      <td>0.211996</td>\n",
       "      <td>0.456685</td>\n",
       "    </tr>\n",
       "    <tr>\n",
       "      <th>13</th>\n",
       "      <td>2017-04-28 15:21:41</td>\n",
       "      <td>Pros: Rolled edges, everything fit well, all c...</td>\n",
       "      <td>4</td>\n",
       "      <td>0.215855</td>\n",
       "      <td>0.436310</td>\n",
       "    </tr>\n",
       "    <tr>\n",
       "      <th>7</th>\n",
       "      <td>2017-05-27 15:34:06</td>\n",
       "      <td>Pros: Plenty of space for mid tower gaming pc....</td>\n",
       "      <td>4</td>\n",
       "      <td>0.216667</td>\n",
       "      <td>0.416667</td>\n",
       "    </tr>\n",
       "    <tr>\n",
       "      <th>2</th>\n",
       "      <td>2017-06-08 05:55:28</td>\n",
       "      <td>Pros: Very well built, great for beginners, lo...</td>\n",
       "      <td>5</td>\n",
       "      <td>0.218333</td>\n",
       "      <td>0.501667</td>\n",
       "    </tr>\n",
       "    <tr>\n",
       "      <th>4</th>\n",
       "      <td>2017-06-05 15:25:31</td>\n",
       "      <td>Pros: Cheap\\n\\nCons: Cable management should b...</td>\n",
       "      <td>4</td>\n",
       "      <td>0.218561</td>\n",
       "      <td>0.471591</td>\n",
       "    </tr>\n",
       "    <tr>\n",
       "      <th>27</th>\n",
       "      <td>2017-02-01 06:03:19</td>\n",
       "      <td>Pros: Size is good for small amount of sparce\\...</td>\n",
       "      <td>5</td>\n",
       "      <td>0.225000</td>\n",
       "      <td>0.500000</td>\n",
       "    </tr>\n",
       "    <tr>\n",
       "      <th>30</th>\n",
       "      <td>2017-01-26 09:19:10</td>\n",
       "      <td>Pros: 1. Case fits together solidly. 2. Doesn'...</td>\n",
       "      <td>5</td>\n",
       "      <td>0.227500</td>\n",
       "      <td>0.608056</td>\n",
       "    </tr>\n",
       "    <tr>\n",
       "      <th>5</th>\n",
       "      <td>2017-06-01 17:43:10</td>\n",
       "      <td>Pros: - Great price! \\n- Good ventilation. \\n-...</td>\n",
       "      <td>5</td>\n",
       "      <td>0.235714</td>\n",
       "      <td>0.510034</td>\n",
       "    </tr>\n",
       "    <tr>\n",
       "      <th>22</th>\n",
       "      <td>2017-02-15 20:08:22</td>\n",
       "      <td>Pros: 3 fans that really move air. Sitting her...</td>\n",
       "      <td>5</td>\n",
       "      <td>0.247500</td>\n",
       "      <td>0.592262</td>\n",
       "    </tr>\n",
       "    <tr>\n",
       "      <th>25</th>\n",
       "      <td>2017-02-11 09:08:28</td>\n",
       "      <td>Pros: Liked this one so much I bought a 2nd on...</td>\n",
       "      <td>5</td>\n",
       "      <td>0.251563</td>\n",
       "      <td>0.365625</td>\n",
       "    </tr>\n",
       "    <tr>\n",
       "      <th>8</th>\n",
       "      <td>2017-05-25 08:59:36</td>\n",
       "      <td>Pros: This case is well designed with a lot of...</td>\n",
       "      <td>5</td>\n",
       "      <td>0.257353</td>\n",
       "      <td>0.407843</td>\n",
       "    </tr>\n",
       "    <tr>\n",
       "      <th>26</th>\n",
       "      <td>2017-02-01 10:46:58</td>\n",
       "      <td>Pros: Great case for the price. nice and tidy\\...</td>\n",
       "      <td>4</td>\n",
       "      <td>0.301667</td>\n",
       "      <td>0.698333</td>\n",
       "    </tr>\n",
       "    <tr>\n",
       "      <th>19</th>\n",
       "      <td>2017-03-24 15:58:01</td>\n",
       "      <td>Pros: Looks really cool . Easy to work with no...</td>\n",
       "      <td>5</td>\n",
       "      <td>0.313563</td>\n",
       "      <td>0.572194</td>\n",
       "    </tr>\n",
       "    <tr>\n",
       "      <th>15</th>\n",
       "      <td>2017-04-07 12:13:27</td>\n",
       "      <td>Pros: Plenty of room with no surprises, good a...</td>\n",
       "      <td>5</td>\n",
       "      <td>0.356631</td>\n",
       "      <td>0.584560</td>\n",
       "    </tr>\n",
       "    <tr>\n",
       "      <th>6</th>\n",
       "      <td>2017-06-01 13:10:16</td>\n",
       "      <td>Pros: - looks great!\\n-very good ventilation, ...</td>\n",
       "      <td>4</td>\n",
       "      <td>0.392255</td>\n",
       "      <td>0.577745</td>\n",
       "    </tr>\n",
       "    <tr>\n",
       "      <th>16</th>\n",
       "      <td>2017-04-02 09:33:37</td>\n",
       "      <td>Pros: Nice looking.\\nSpacious.\\nsturdy.\\n\\nCon...</td>\n",
       "      <td>4</td>\n",
       "      <td>0.550000</td>\n",
       "      <td>0.750000</td>\n",
       "    </tr>\n",
       "  </tbody>\n",
       "</table>\n",
       "</div>"
      ],
      "text/plain": [
       "                  Date                                            Reviews  \\\n",
       "20 2017-03-16 13:55:01  Pros: Nice looking case and good layout. Unfor...   \n",
       "28 2017-02-01 04:08:18  Pros: Side panels are.. okay?\\n\\nCons: TOO EXP...   \n",
       "18 2017-03-24 21:19:39  Pros: Solid Build\\nPlenty of cooling fans\\nSpa...   \n",
       "9  2017-05-20 04:47:16  Pros: Solid case, never given me any troubles,...   \n",
       "14 2017-04-19 22:07:32  Pros: I built a budget computer for a buddy wi...   \n",
       "32 2016-12-08 03:28:10  Pros: decent build, looks good\\n\\nCons: This i...   \n",
       "3  2017-06-05 21:10:56  Pros: I had this box for like 4 or 5 years now...   \n",
       "1  2017-06-12 10:18:56  Pros: - I personally don't care what my case l...   \n",
       "23 2017-02-13 09:20:50  Pros: -Everything that's compatible with this ...   \n",
       "17 2017-03-27 10:42:14  Pros: - fan options\\n- blue led\\n- top and rea...   \n",
       "10 2017-05-15 16:22:44  Pros: + Cheap Price\\n+ Came with pre-installed...   \n",
       "24 2017-02-11 15:15:35  Pros: -Bought a Rosewill Challenger case rough...   \n",
       "29 2017-01-26 23:52:26  Pros: -All steel\\n-Thumb screws attach the sid...   \n",
       "11 2017-05-13 00:10:54  Pros: The fans are quiet and great.\\nLightweig...   \n",
       "12 2017-05-12 16:48:48  Pros: The fans are quiet and great.\\nLightweig...   \n",
       "21 2017-03-11 16:25:02  Pros: Surprisingly good quality case for the p...   \n",
       "31 2017-01-23 06:39:10  Pros: - Great and not too loud fans\\n- Big eno...   \n",
       "0  2017-06-20 13:40:42  Pros: Large for a mid tower, easy HDD installa...   \n",
       "13 2017-04-28 15:21:41  Pros: Rolled edges, everything fit well, all c...   \n",
       "7  2017-05-27 15:34:06  Pros: Plenty of space for mid tower gaming pc....   \n",
       "2  2017-06-08 05:55:28  Pros: Very well built, great for beginners, lo...   \n",
       "4  2017-06-05 15:25:31  Pros: Cheap\\n\\nCons: Cable management should b...   \n",
       "27 2017-02-01 06:03:19  Pros: Size is good for small amount of sparce\\...   \n",
       "30 2017-01-26 09:19:10  Pros: 1. Case fits together solidly. 2. Doesn'...   \n",
       "5  2017-06-01 17:43:10  Pros: - Great price! \\n- Good ventilation. \\n-...   \n",
       "22 2017-02-15 20:08:22  Pros: 3 fans that really move air. Sitting her...   \n",
       "25 2017-02-11 09:08:28  Pros: Liked this one so much I bought a 2nd on...   \n",
       "8  2017-05-25 08:59:36  Pros: This case is well designed with a lot of...   \n",
       "26 2017-02-01 10:46:58  Pros: Great case for the price. nice and tidy\\...   \n",
       "19 2017-03-24 15:58:01  Pros: Looks really cool . Easy to work with no...   \n",
       "15 2017-04-07 12:13:27  Pros: Plenty of room with no surprises, good a...   \n",
       "6  2017-06-01 13:10:16  Pros: - looks great!\\n-very good ventilation, ...   \n",
       "16 2017-04-02 09:33:37  Pros: Nice looking.\\nSpacious.\\nsturdy.\\n\\nCon...   \n",
       "\n",
       "    Eggs  polarity  subjectivity  \n",
       "20     1 -0.024342      0.621930  \n",
       "28     1  0.001087      0.594565  \n",
       "18     5  0.033482      0.537500  \n",
       "9      4  0.090476      0.566667  \n",
       "14     3  0.100000      0.733333  \n",
       "32     1  0.126845      0.404524  \n",
       "3      5  0.133333      0.663889  \n",
       "1      5  0.133931      0.350177  \n",
       "23     5  0.134048      0.421565  \n",
       "17     5  0.135714      0.316964  \n",
       "10     4  0.148333      0.378333  \n",
       "24     5  0.154545      0.295360  \n",
       "29     5  0.179266      0.456680  \n",
       "11     5  0.181888      0.432823  \n",
       "12     4  0.181888      0.432823  \n",
       "21     5  0.184876      0.560049  \n",
       "31     2  0.208333      0.691667  \n",
       "0      5  0.211996      0.456685  \n",
       "13     4  0.215855      0.436310  \n",
       "7      4  0.216667      0.416667  \n",
       "2      5  0.218333      0.501667  \n",
       "4      4  0.218561      0.471591  \n",
       "27     5  0.225000      0.500000  \n",
       "30     5  0.227500      0.608056  \n",
       "5      5  0.235714      0.510034  \n",
       "22     5  0.247500      0.592262  \n",
       "25     5  0.251563      0.365625  \n",
       "8      5  0.257353      0.407843  \n",
       "26     4  0.301667      0.698333  \n",
       "19     5  0.313563      0.572194  \n",
       "15     5  0.356631      0.584560  \n",
       "6      4  0.392255      0.577745  \n",
       "16     4  0.550000      0.750000  "
      ]
     },
     "execution_count": 17,
     "metadata": {},
     "output_type": "execute_result"
    }
   ],
   "source": [
    "df.sort_values(['polarity'])"
   ]
  },
  {
   "cell_type": "code",
   "execution_count": 18,
   "metadata": {},
   "outputs": [
    {
     "name": "stdout",
     "output_type": "stream",
     "text": [
      "Pros: Nice looking case and good layout. Unfortunately...\n",
      "\n",
      "Cons: Unfortunately the implementation of the case build is bad. They paint everything separately then rivet it all together. The result is that none of the panels are electrically connected. When you install the power supply, it's earth ground does not connect to any of the panels. The result is that there is little RF shielding, but more important there is no static protection because the case panels are not grounded. \n",
      "\n",
      "As a part of the problem, there are little tabs along the edges of the case where the side panels go on. The little balls on the tabs are supposed to be bare metal and the associated location on the side panel is also supposed to be bare metal. This is how the side panel gets it's electrical ground connection. Unfortunately both the side panel and the case tabs are painted, so no connection is made. So the side panels are electrically floating. \n",
      "\n",
      "This could have been a real nice case if they had built it properly. But now it is just junk metal.\n",
      "\n",
      "Other Thoughts: Due to the poor build implementation I would not recommend this case.\n"
     ]
    }
   ],
   "source": [
    "print(df.sort_values(['polarity']).iloc[0].Reviews)"
   ]
  },
  {
   "cell_type": "code",
   "execution_count": 19,
   "metadata": {
    "scrolled": true
   },
   "outputs": [
    {
     "name": "stdout",
     "output_type": "stream",
     "text": [
      "Pros: Side panels are.. okay?\n",
      "\n",
      "Cons: TOO EXPENSIVE\n",
      "Case is flimsy\n",
      "Cheap materials\n",
      "Ugly\n",
      "Too big\n",
      "\n",
      "Other Thoughts: I bought this as a 15 yr old naive kid. I thought it looked cool and had nice ratings. I wish I had gone for a $20 small case. This is too big and it's built cheaply. I am not happy with it, the fans need upgraded because they're awful so it really comes up to around 100 instead of 50 because of the need for upgrade fans. This case needs plenty of room for venting otherwise the fans will get LOUD, I like to tuck my PC away out of site so I can focus on other things other than the loud fans, but I can't because it's too big. I record and write music. I've had to delete so many nice tracks because the mic caught loud fans in the background.\n"
     ]
    }
   ],
   "source": [
    "print(df.sort_values(['polarity']).iloc[1].Reviews)"
   ]
  },
  {
   "cell_type": "code",
   "execution_count": 20,
   "metadata": {},
   "outputs": [
    {
     "name": "stdout",
     "output_type": "stream",
     "text": [
      "Pros: Solid Build\n",
      "Plenty of cooling fans\n",
      "Spacious interior\n",
      "Looks nice\n",
      "Plenty of screws and MB standoffs\n",
      "\n",
      "Cons: Had to make some small adjustments on the HD railings, (moving the rubber shock absorbers around)\n",
      "\n",
      "Other Thoughts: I'm not a gamer, but I like the gaming cases because they're built for the stresses of gaming. This case has enough of a light show with the lighted fan, without being too \"Las Vegas\", if you know what I mean!\n"
     ]
    }
   ],
   "source": [
    "print(df.sort_values(['polarity']).iloc[2].Reviews)"
   ]
  },
  {
   "cell_type": "code",
   "execution_count": 21,
   "metadata": {},
   "outputs": [
    {
     "name": "stdout",
     "output_type": "stream",
     "text": [
      "Pros: decent build, looks good\n",
      "\n",
      "Cons: This is called a gaming case, but yet it does not have room for a large number of gaming video cards. The drive cage could have been designed using a little more thought and increased the area for the longer cards. I have other cases that are the same outside dimensions but have room for the cards inside. They also fail to list the max video card length as many others do.\n"
     ]
    }
   ],
   "source": [
    "print(df.sort_values(['polarity']).iloc[5].Reviews)"
   ]
  }
 ],
 "metadata": {
  "kernelspec": {
   "display_name": "Python 3",
   "language": "python",
   "name": "python3"
  },
  "language_info": {
   "codemirror_mode": {
    "name": "ipython",
    "version": 3
   },
   "file_extension": ".py",
   "mimetype": "text/x-python",
   "name": "python",
   "nbconvert_exporter": "python",
   "pygments_lexer": "ipython3",
   "version": "3.5.3"
  }
 },
 "nbformat": 4,
 "nbformat_minor": 2
}
